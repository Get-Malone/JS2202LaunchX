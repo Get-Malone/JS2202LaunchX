{
 "cells": [
  {
   "cell_type": "markdown",
   "metadata": {},
   "source": [
    "#Crear un entorno virtual\n",
    "\n",
    "Se crean las carpetas:\n",
    "-env\n",
    "    -include\n",
    "    -Lib\n",
    "    -Scripts\n",
    "    -pyvenv.cfg"
   ]
  },
  {
   "cell_type": "markdown",
   "metadata": {},
   "source": [
    "#Activar el entorno virtual\n",
    "\n",
    "En este caso se navega a la carpeta Scripts desde terminal de Windows y se ejecuta el archivo activate.\n",
    "cd env\\Scripts\\activate"
   ]
  },
  {
   "cell_type": "markdown",
   "metadata": {},
   "source": [
    "#Instalar un paquete\n",
    "\n",
    "Para instalar un paquete usamos pip. \n",
    "pip install python-dateutil\n",
    "\n",
    "El resultado que obtenemos es:\n",
    "\n",
    "Collecting python-dateutil\n",
    "  Using cached python_dateutil-2.8.2-py2.py3-none-any.whl (247 kB)\n",
    "Collecting six>=1.5\n",
    "  Using cached six-1.16.0-py2.py3-none-any.whl (11 kB)\n",
    "Installing collected packages: six, python-dateutil\n",
    "Successfully installed python-dateutil-2.8.2 six-1.16.0\n",
    "WARNING: You are using pip version 21.2.3; however, version 22.0.3 is available.\n",
    "You should consider upgrading via the 'C:\\Users\\josea\\OneDrive - Universidad Autónoma del Estado de México\\Documents\\GitHub\\LaunchX-JS2202\\env\\Scripts\\python.exe -m pip install --upgrade pip' command.\n",
    "\n",
    "Nos crea una carpeta nueva en Lib.\n",
    "/env\n",
    "    /lib\n",
    "      /dateutil"
   ]
  },
  {
   "cell_type": "markdown",
   "metadata": {},
   "source": [
    "#Ver paquetes instalados en nuestro ambiente virtual.\n",
    "\n",
    "Para esto usamos pip freeze\n",
    "\n",
    "El resultado que nos da es el siguiente.\n",
    "python-dateutil==2.8.2\n",
    "six==1.16.0"
   ]
  },
  {
   "cell_type": "markdown",
   "metadata": {},
   "source": [
    "#Desactivar el entorno virtual.\n",
    "\n",
    "Si seguimos en la misma ruta que cuando lo activamos no tenemos que poner nuevamente cd.\n",
    "En caso de que estemos en la carpeta principal del proyecto ejecutamos:\n",
    "cd env\\Scripts\\deactivate"
   ]
  }
 ],
 "metadata": {
  "language_info": {
   "name": "python"
  },
  "orig_nbformat": 4
 },
 "nbformat": 4,
 "nbformat_minor": 2
}
